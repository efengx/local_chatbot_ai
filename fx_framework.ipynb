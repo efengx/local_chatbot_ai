{
 "cells": [
  {
   "cell_type": "code",
   "execution_count": null,
   "metadata": {},
   "outputs": [],
   "source": [
    "# 架构：gptcache + langchain + milvus + sqlit + huggingface embedding 相识问题缓存构建"
   ]
  },
  {
   "cell_type": "code",
   "execution_count": null,
   "metadata": {},
   "outputs": [],
   "source": [
    "# 架构：autogen + Flowise 自动项目生成构建\n",
    "!docker run -d --name flowise -p 3000:3000 flowiseai/flowise"
   ]
  }
 ],
 "metadata": {
  "language_info": {
   "name": "python"
  }
 },
 "nbformat": 4,
 "nbformat_minor": 2
}
