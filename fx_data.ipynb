{
 "cells": [
  {
   "cell_type": "code",
   "execution_count": null,
   "metadata": {},
   "outputs": [],
   "source": [
    "# 任务：下载文档\n",
    "file=\"https://arxiv.org/pdf/2307.09288.pdf\"\n",
    "!mkdir -p data && wget --user-agent \"Mozilla\" {file} -O \"./data/llama2.pdf\""
   ]
  },
  {
   "cell_type": "code",
   "execution_count": null,
   "metadata": {},
   "outputs": [],
   "source": [
    "# 任务：下载文档\n",
    "file=\"https://ir.manutd.com/~/media/Files/M/Manutd-IR/documents/manu-20f-2022-09-24.pdf\"\n",
    "!mkdir -p data && wget --user-agent \"Mozilla\" {file} -P \"./data/\""
   ]
  },
  {
   "cell_type": "code",
   "execution_count": null,
   "metadata": {},
   "outputs": [],
   "source": [
    "# 任务：下载模型，量化模型q4\n",
    "# 参考：（size: 7.73G）https://huggingface.co/TheBloke/Llama-2-13B-chat-GGUF/tree/main\n",
    "# 说明：local_dir 使用的是软链接\n",
    "from huggingface_hub import hf_hub_download\n",
    "\n",
    "hf_hub_download(repo_id=\"TheBloke/Llama-2-13B-chat-GGUF\",\n",
    "                filename=\"llama-2-13b-chat.Q4_0.gguf\",\n",
    "                local_dir=\"./models/\")"
   ]
  },
  {
   "cell_type": "code",
   "execution_count": null,
   "metadata": {},
   "outputs": [],
   "source": [
    "# 任务：下载模型，量化模型q4\n",
    "# 说明：该模型llamacpp无法加载，存在错误\n",
    "from huggingface_hub import hf_hub_download\n",
    "\n",
    "hf_hub_download(repo_id=\"soulteary/Chinese-Llama-2-7b-ggml-q4\",\n",
    "                filename=\"Chinese-Llama-2-7b-ggml-q4.bin\",\n",
    "                local_dir=\"./models/\")"
   ]
  },
  {
   "cell_type": "code",
   "execution_count": 1,
   "metadata": {},
   "outputs": [],
   "source": [
    "# 任务：（本地微服务）嵌入式milvus\n",
    "# 启动时间：1m19.3s\n",
    "from src.local_milvus import LocalMilvus\n",
    "\n",
    "localMilvus = LocalMilvus.instance()\n",
    "localMilvus.start()"
   ]
  },
  {
   "cell_type": "code",
   "execution_count": null,
   "metadata": {},
   "outputs": [],
   "source": [
    "# 任务：关闭嵌入式milvus\n",
    "from src.local_milvus import LocalMilvus\n",
    "\n",
    "localMilvus = LocalMilvus.instance()\n",
    "localMilvus.start()"
   ]
  }
 ],
 "metadata": {
  "kernelspec": {
   "display_name": ".venv",
   "language": "python",
   "name": "python3"
  },
  "language_info": {
   "codemirror_mode": {
    "name": "ipython",
    "version": 3
   },
   "file_extension": ".py",
   "mimetype": "text/x-python",
   "name": "python",
   "nbconvert_exporter": "python",
   "pygments_lexer": "ipython3",
   "version": "3.9.16"
  }
 },
 "nbformat": 4,
 "nbformat_minor": 2
}
